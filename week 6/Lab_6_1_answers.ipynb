{
  "nbformat": 4,
  "nbformat_minor": 0,
  "metadata": {
    "colab": {
      "provenance": []
    },
    "kernelspec": {
      "name": "python3",
      "display_name": "Python 3"
    },
    "language_info": {
      "name": "python"
    }
  },
  "cells": [
    {
      "cell_type": "markdown",
      "source": [
        "Import Numpy. We import it as np so we can call np. for any numpy functions"
      ],
      "metadata": {
        "id": "Z15RtJSVHJiw"
      }
    },
    {
      "cell_type": "code",
      "execution_count": null,
      "metadata": {
        "id": "ArVBVTBD3II9"
      },
      "outputs": [],
      "source": [
        "import numpy as np"
      ]
    },
    {
      "cell_type": "markdown",
      "source": [
        "Reshape this array to be a multi dimentaional array with 2 sets of 4 numbers and print the result"
      ],
      "metadata": {
        "id": "akHL0m-uHiDx"
      }
    },
    {
      "cell_type": "code",
      "source": [
        "my_array = np.array([2,2,2,2,4,4,4,4])\n",
        "my_array = my_array.reshape(2,4)\n",
        "\n",
        "print(my_array)"
      ],
      "metadata": {
        "colab": {
          "base_uri": "https://localhost:8080/"
        },
        "id": "_IuA45gZHpjA",
        "outputId": "bdd5f2d6-5e2f-483e-e95c-ec1f746f813b"
      },
      "execution_count": null,
      "outputs": [
        {
          "output_type": "stream",
          "name": "stdout",
          "text": [
            "[[2 2]\n",
            " [2 2]\n",
            " [4 4]\n",
            " [4 4]]\n"
          ]
        }
      ]
    },
    {
      "cell_type": "markdown",
      "source": [
        "Reshape the same array to be 4 sets of two numbers and print the result"
      ],
      "metadata": {
        "id": "ckrbva2qH4zh"
      }
    },
    {
      "cell_type": "code",
      "source": [
        "my_array = np.array([2,2,2,2,4,4,4,4])\n",
        "my_array = my_array.reshape((4,2))\n",
        "print(my_array)"
      ],
      "metadata": {
        "colab": {
          "base_uri": "https://localhost:8080/"
        },
        "id": "vnZmgowAH-53",
        "outputId": "7acc54ec-f5e7-4bae-9893-acfdeddab751"
      },
      "execution_count": null,
      "outputs": [
        {
          "output_type": "stream",
          "name": "stdout",
          "text": [
            "[[2 2]\n",
            " [2 2]\n",
            " [4 4]\n",
            " [4 4]]\n"
          ]
        }
      ]
    },
    {
      "cell_type": "markdown",
      "source": [
        "Multiply each element of this array by 2 and print the result. Use numpy, not a for loop"
      ],
      "metadata": {
        "id": "tsMSCh9PIH8Q"
      }
    },
    {
      "cell_type": "code",
      "source": [
        "my_array = np.array([2,2,2,2,4,4,4,4])\n",
        "my_array = my_array*2\n",
        "print(my_array)"
      ],
      "metadata": {
        "colab": {
          "base_uri": "https://localhost:8080/"
        },
        "id": "qs2EuDY8IX7P",
        "outputId": "0c3f201d-860f-41ef-c581-f514faf10885"
      },
      "execution_count": null,
      "outputs": [
        {
          "output_type": "stream",
          "name": "stdout",
          "text": [
            "[4 4 4 4 8 8 8 8]\n"
          ]
        }
      ]
    },
    {
      "cell_type": "markdown",
      "source": [
        "Add each element of these arrays together in a new array called new_array, don't use a for loop, use numpy. Print the result"
      ],
      "metadata": {
        "id": "6roUkMHUIgoN"
      }
    },
    {
      "cell_type": "code",
      "source": [
        "array1 = np.array([6,4,31,4,5,7,3,1])\n",
        "array2 = np.array([3,2,6,3,1,5,7,8])\n",
        "new_array = array1*array2\n",
        "print(new_array)\n"
      ],
      "metadata": {
        "colab": {
          "base_uri": "https://localhost:8080/"
        },
        "id": "wW48SjU-IkO9",
        "outputId": "f3672fa9-24f6-48ba-cd92-b3be74308292"
      },
      "execution_count": null,
      "outputs": [
        {
          "output_type": "stream",
          "name": "stdout",
          "text": [
            "[ 18   8 186  12   5  35  21   8]\n"
          ]
        }
      ]
    },
    {
      "cell_type": "markdown",
      "source": [
        "Save a CSV file with the array below called \"my_CSV\" with the headers \"ones, tens, hundreds\". The columns should only contain numbers that correspond to the header."
      ],
      "metadata": {
        "id": "oJYGP__JHUX_"
      }
    },
    {
      "cell_type": "code",
      "source": [
        "data_set_1 = np.array([[1, 10, 100],[2, 20, 200],[3, 30, 300]])\n",
        "np.savetxt('my_CSV.csv', data_set_1, fmt='%4d', delimiter=',', header='Ones, Tens, Hundreds')\n"
      ],
      "metadata": {
        "id": "ahCz3cW1I95I"
      },
      "execution_count": null,
      "outputs": []
    },
    {
      "cell_type": "markdown",
      "source": [
        "Convert the array below to match data_set_1 using numpy. Print the result."
      ],
      "metadata": {
        "id": "dvgimWvMJUe1"
      }
    },
    {
      "cell_type": "code",
      "source": [
        "data_set_a = np.array([1, 10, 100,2, 20, 200, 3, 30, 300])\n",
        "\n",
        "data_set_a = data_set_a.reshape((3,3))\n",
        "print(data_set_a)"
      ],
      "metadata": {
        "colab": {
          "base_uri": "https://localhost:8080/"
        },
        "id": "t6ma8eclJYrA",
        "outputId": "f1b1e388-3eaf-482e-996d-5f08d188e905"
      },
      "execution_count": null,
      "outputs": [
        {
          "output_type": "stream",
          "name": "stdout",
          "text": [
            "[[  1  10 100]\n",
            " [  2  20 200]\n",
            " [  3  30 300]]\n"
          ]
        }
      ]
    },
    {
      "cell_type": "markdown",
      "source": [
        "Create two numpy arrays, one with even numbers and one with odd numbers. Make a CSV fle called even_and_odd where even and odd numbers are in different columns (not rows). Label each one with the appropriate header."
      ],
      "metadata": {
        "id": "QzX2ASKXJ7VM"
      }
    },
    {
      "cell_type": "code",
      "source": [
        "even_array = np.arange(2, 101, 2)\n",
        "odd_array = np.arange(1, 101, 2)\n",
        "number_array = np.vstack((odd_array, even_array))\n",
        "number_array = number_array.T\n",
        "\n",
        "np.savetxt('even_and_odd.csv', number_array, fmt='%4d', delimiter=',', header='even, odd')\n",
        "\n",
        "# Optionally, number_array = np.hstack((odd_array, even_array)) and reshape it\n"
      ],
      "metadata": {
        "colab": {
          "base_uri": "https://localhost:8080/"
        },
        "id": "1LqqWMH2J65F",
        "outputId": "fb33f12a-0bcf-463f-96bc-616897a4aa64"
      },
      "execution_count": null,
      "outputs": [
        {
          "name": "stdout",
          "output_type": "stream",
          "text": [
            "What is a num?10\n"
          ]
        }
      ]
    },
    {
      "cell_type": "markdown",
      "source": [
        "Write a peice of code that asks the user for a number. Create two numpy arrays:\n",
        "first_array should contain the 10 numbers after that number\n",
        "second_array should count up 2 10 times, then multiply the entire array by 2\n",
        "\n",
        "Combine the two arrays into super_array. Reshape super_array to be sets of 5 numbers\n",
        "print the result"
      ],
      "metadata": {
        "id": "VcVUyfVZK6xx"
      }
    },
    {
      "cell_type": "code",
      "source": [
        "num = int(input(\"What is the number?\"))\n",
        "first_array = np.arange(num, num+10)\n",
        "second_array = np.arange(num, num+20,2)*2\n",
        "super_array = np.hstack((first_array, second_array))\n",
        "super_array = super_array.reshape(5,4)\n",
        "\n",
        "print(super_array)"
      ],
      "metadata": {
        "colab": {
          "base_uri": "https://localhost:8080/"
        },
        "id": "krNASWb7Ll8o",
        "outputId": "4ef34bee-6949-4029-e392-eb4c637e4ee1"
      },
      "execution_count": null,
      "outputs": [
        {
          "output_type": "stream",
          "name": "stdout",
          "text": [
            "What is the number?2\n",
            "[[ 2  3  4  5]\n",
            " [ 6  7  8  9]\n",
            " [10 11  4  8]\n",
            " [12 16 20 24]\n",
            " [28 32 36 40]]\n"
          ]
        }
      ]
    },
    {
      "cell_type": "code",
      "source": [],
      "metadata": {
        "id": "VG_fCLS15GLa"
      },
      "execution_count": null,
      "outputs": []
    }
  ]
}