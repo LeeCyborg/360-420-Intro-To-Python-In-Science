{
  "nbformat": 4,
  "nbformat_minor": 0,
  "metadata": {
    "colab": {
      "provenance": []
    },
    "kernelspec": {
      "name": "python3",
      "display_name": "Python 3"
    },
    "language_info": {
      "name": "python"
    }
  },
  "cells": [
    {
      "cell_type": "markdown",
      "source": [
        "Import Numpy as np and run it"
      ],
      "metadata": {
        "id": "Z15RtJSVHJiw"
      }
    },
    {
      "cell_type": "code",
      "execution_count": 3,
      "metadata": {
        "id": "ArVBVTBD3II9"
      },
      "outputs": [],
      "source": []
    },
    {
      "cell_type": "markdown",
      "source": [
        "Reshape this array to be a multi dimentaional array with 2 sets of 4 numbers and print the result"
      ],
      "metadata": {
        "id": "akHL0m-uHiDx"
      }
    },
    {
      "cell_type": "code",
      "source": [
        "my_array = np.array([2,2,2,2,4,4,4,4])\n"
      ],
      "metadata": {
        "id": "_IuA45gZHpjA"
      },
      "execution_count": 4,
      "outputs": []
    },
    {
      "cell_type": "markdown",
      "source": [
        "Reshape the same array to be 4 sets of two numbers and print the result"
      ],
      "metadata": {
        "id": "ckrbva2qH4zh"
      }
    },
    {
      "cell_type": "code",
      "source": [
        "my_array = np.array([2,2,2,2,4,4,4,4])\n"
      ],
      "metadata": {
        "colab": {
          "base_uri": "https://localhost:8080/"
        },
        "id": "vnZmgowAH-53",
        "outputId": "7acc54ec-f5e7-4bae-9893-acfdeddab751"
      },
      "execution_count": null,
      "outputs": [
        {
          "output_type": "stream",
          "name": "stdout",
          "text": [
            "[[2 2]\n",
            " [2 2]\n",
            " [4 4]\n",
            " [4 4]]\n"
          ]
        }
      ]
    },
    {
      "cell_type": "markdown",
      "source": [
        "Multiply each element of this array by 2 and print the result. Use numpy, not a for loop"
      ],
      "metadata": {
        "id": "tsMSCh9PIH8Q"
      }
    },
    {
      "cell_type": "code",
      "source": [
        "my_array = np.array([2,2,2,2,4,4,4,4])\n"
      ],
      "metadata": {
        "colab": {
          "base_uri": "https://localhost:8080/"
        },
        "id": "qs2EuDY8IX7P",
        "outputId": "0c3f201d-860f-41ef-c581-f514faf10885"
      },
      "execution_count": null,
      "outputs": [
        {
          "output_type": "stream",
          "name": "stdout",
          "text": [
            "[4 4 4 4 8 8 8 8]\n"
          ]
        }
      ]
    },
    {
      "cell_type": "markdown",
      "source": [
        "Add each element of these arrays together in a new array called new_array, don't use a for loop, use numpy. Print the result"
      ],
      "metadata": {
        "id": "6roUkMHUIgoN"
      }
    },
    {
      "cell_type": "code",
      "source": [
        "array1 = np.array([6,4,31,4,5,7,3,1])\n",
        "array2 = np.array([3,2,6,3,1,5,7,8])\n",
        "\n"
      ],
      "metadata": {
        "colab": {
          "base_uri": "https://localhost:8080/"
        },
        "id": "wW48SjU-IkO9",
        "outputId": "f3672fa9-24f6-48ba-cd92-b3be74308292"
      },
      "execution_count": null,
      "outputs": [
        {
          "output_type": "stream",
          "name": "stdout",
          "text": [
            "[ 18   8 186  12   5  35  21   8]\n"
          ]
        }
      ]
    },
    {
      "cell_type": "markdown",
      "source": [
        "Save a CSV file with the array below called \"my_CSV\" with the headers \"ones, tens, hundreds\". The columns should only contain numbers that correspond to the header."
      ],
      "metadata": {
        "id": "oJYGP__JHUX_"
      }
    },
    {
      "cell_type": "code",
      "source": [
        "data_set_1 = np.array([[1, 10, 100],[2, 20, 200],[3, 30, 300]])\n"
      ],
      "metadata": {
        "id": "ahCz3cW1I95I"
      },
      "execution_count": null,
      "outputs": []
    },
    {
      "cell_type": "markdown",
      "source": [
        "Convert the array below to match data_set_1 using numpy. Print the result."
      ],
      "metadata": {
        "id": "dvgimWvMJUe1"
      }
    },
    {
      "cell_type": "code",
      "source": [
        "data_set_a = np.array([1, 10, 100,2, 20, 200, 3, 30, 300])"
      ],
      "metadata": {
        "colab": {
          "base_uri": "https://localhost:8080/"
        },
        "id": "t6ma8eclJYrA",
        "outputId": "f1b1e388-3eaf-482e-996d-5f08d188e905"
      },
      "execution_count": null,
      "outputs": [
        {
          "output_type": "stream",
          "name": "stdout",
          "text": [
            "[[  1  10 100]\n",
            " [  2  20 200]\n",
            " [  3  30 300]]\n"
          ]
        }
      ]
    },
    {
      "cell_type": "markdown",
      "source": [
        "Create two numpy arrays, one with even numbers and one with odd numbers. Make a CSV fle called even_and_odd where even and odd numbers are in different columns (not rows). Label each one with the appropriate header."
      ],
      "metadata": {
        "id": "QzX2ASKXJ7VM"
      }
    },
    {
      "cell_type": "code",
      "source": [],
      "metadata": {
        "id": "1LqqWMH2J65F"
      },
      "execution_count": 1,
      "outputs": []
    },
    {
      "cell_type": "markdown",
      "source": [
        "Write a peice of code that asks the user for a number. Create two numpy arrays:\n",
        "first_array should contain the 10 numbers after that number\n",
        "second_array should count up 2 10 times, then multiply the entire array by 2\n",
        "\n",
        "Combine the two arrays into super_array. Reshape super_array to be sets of 5 numbers\n",
        "print the result"
      ],
      "metadata": {
        "id": "VcVUyfVZK6xx"
      }
    },
    {
      "cell_type": "code",
      "source": [],
      "metadata": {
        "colab": {
          "base_uri": "https://localhost:8080/"
        },
        "id": "krNASWb7Ll8o",
        "outputId": "4ef34bee-6949-4029-e392-eb4c637e4ee1"
      },
      "execution_count": null,
      "outputs": [
        {
          "output_type": "stream",
          "name": "stdout",
          "text": [
            "What is the number?2\n",
            "[[ 2  3  4  5]\n",
            " [ 6  7  8  9]\n",
            " [10 11  4  8]\n",
            " [12 16 20 24]\n",
            " [28 32 36 40]]\n"
          ]
        }
      ]
    },
    {
      "cell_type": "code",
      "source": [],
      "metadata": {
        "id": "VG_fCLS15GLa"
      },
      "execution_count": null,
      "outputs": []
    }
  ]
}